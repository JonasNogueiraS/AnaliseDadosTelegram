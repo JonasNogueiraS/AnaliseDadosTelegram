{
 "cells": [
  {
   "cell_type": "code",
   "execution_count": 25,
   "metadata": {},
   "outputs": [],
   "source": [
    "import pandas as pd\n",
    "import numpy as np \n",
    "import matplotlib.pyplot as plt"
   ]
  },
  {
   "cell_type": "code",
   "execution_count": 26,
   "metadata": {},
   "outputs": [
    {
     "data": {
      "text/html": [
       "<div>\n",
       "<style scoped>\n",
       "    .dataframe tbody tr th:only-of-type {\n",
       "        vertical-align: middle;\n",
       "    }\n",
       "\n",
       "    .dataframe tbody tr th {\n",
       "        vertical-align: top;\n",
       "    }\n",
       "\n",
       "    .dataframe thead th {\n",
       "        text-align: right;\n",
       "    }\n",
       "</style>\n",
       "<table border=\"1\" class=\"dataframe\">\n",
       "  <thead>\n",
       "    <tr style=\"text-align: right;\">\n",
       "      <th></th>\n",
       "      <th>Cargo</th>\n",
       "      <th>Setor</th>\n",
       "      <th>Salário Bruto</th>\n",
       "      <th>Tipo de Contratação</th>\n",
       "      <th>Carga Horária por dia</th>\n",
       "      <th>Formação</th>\n",
       "      <th>Idade</th>\n",
       "      <th>NPS interno</th>\n",
       "    </tr>\n",
       "  </thead>\n",
       "  <tbody>\n",
       "    <tr>\n",
       "      <th>0</th>\n",
       "      <td>Cientista de Dados</td>\n",
       "      <td>Dados</td>\n",
       "      <td>6000</td>\n",
       "      <td>CLT</td>\n",
       "      <td>8</td>\n",
       "      <td>Bacharel</td>\n",
       "      <td>24</td>\n",
       "      <td>9.0</td>\n",
       "    </tr>\n",
       "    <tr>\n",
       "      <th>1</th>\n",
       "      <td>Cientista de Dados</td>\n",
       "      <td>Dados</td>\n",
       "      <td>6500</td>\n",
       "      <td>CLT</td>\n",
       "      <td>8</td>\n",
       "      <td>Bacharel</td>\n",
       "      <td>26</td>\n",
       "      <td>9.6</td>\n",
       "    </tr>\n",
       "    <tr>\n",
       "      <th>2</th>\n",
       "      <td>Analista de Dados</td>\n",
       "      <td>Dados</td>\n",
       "      <td>5000</td>\n",
       "      <td>CLT</td>\n",
       "      <td>8</td>\n",
       "      <td>Bacharel</td>\n",
       "      <td>29</td>\n",
       "      <td>8.0</td>\n",
       "    </tr>\n",
       "    <tr>\n",
       "      <th>3</th>\n",
       "      <td>Analista de Dados</td>\n",
       "      <td>Dados</td>\n",
       "      <td>5800</td>\n",
       "      <td>CLT</td>\n",
       "      <td>8</td>\n",
       "      <td>Bacharel</td>\n",
       "      <td>36</td>\n",
       "      <td>9.0</td>\n",
       "    </tr>\n",
       "    <tr>\n",
       "      <th>4</th>\n",
       "      <td>Analista de Dados</td>\n",
       "      <td>Dados</td>\n",
       "      <td>7000</td>\n",
       "      <td>CLT</td>\n",
       "      <td>8</td>\n",
       "      <td>Bacharel</td>\n",
       "      <td>32</td>\n",
       "      <td>9.4</td>\n",
       "    </tr>\n",
       "    <tr>\n",
       "      <th>...</th>\n",
       "      <td>...</td>\n",
       "      <td>...</td>\n",
       "      <td>...</td>\n",
       "      <td>...</td>\n",
       "      <td>...</td>\n",
       "      <td>...</td>\n",
       "      <td>...</td>\n",
       "      <td>...</td>\n",
       "    </tr>\n",
       "    <tr>\n",
       "      <th>67</th>\n",
       "      <td>Gerente de Marketing</td>\n",
       "      <td>Marketing</td>\n",
       "      <td>6000</td>\n",
       "      <td>CLT</td>\n",
       "      <td>8</td>\n",
       "      <td>Bacharel</td>\n",
       "      <td>46</td>\n",
       "      <td>9.0</td>\n",
       "    </tr>\n",
       "    <tr>\n",
       "      <th>68</th>\n",
       "      <td>Coordenador de Marketing</td>\n",
       "      <td>Marketing</td>\n",
       "      <td>8000</td>\n",
       "      <td>CLT</td>\n",
       "      <td>8</td>\n",
       "      <td>Bacharel</td>\n",
       "      <td>45</td>\n",
       "      <td>9.0</td>\n",
       "    </tr>\n",
       "    <tr>\n",
       "      <th>69</th>\n",
       "      <td>Gerente Comercial</td>\n",
       "      <td>Marketing</td>\n",
       "      <td>8000</td>\n",
       "      <td>CLT</td>\n",
       "      <td>8</td>\n",
       "      <td>Bacharel</td>\n",
       "      <td>32</td>\n",
       "      <td>9.4</td>\n",
       "    </tr>\n",
       "    <tr>\n",
       "      <th>70</th>\n",
       "      <td>Gerente Comercial</td>\n",
       "      <td>Marketing</td>\n",
       "      <td>8000</td>\n",
       "      <td>CLT</td>\n",
       "      <td>8</td>\n",
       "      <td>Bacharel</td>\n",
       "      <td>40</td>\n",
       "      <td>9.6</td>\n",
       "    </tr>\n",
       "    <tr>\n",
       "      <th>71</th>\n",
       "      <td>Gerente Comercial</td>\n",
       "      <td>Marketing</td>\n",
       "      <td>8000</td>\n",
       "      <td>CLT</td>\n",
       "      <td>8</td>\n",
       "      <td>Bacharel</td>\n",
       "      <td>23</td>\n",
       "      <td>8.5</td>\n",
       "    </tr>\n",
       "  </tbody>\n",
       "</table>\n",
       "<p>72 rows × 8 columns</p>\n",
       "</div>"
      ],
      "text/plain": [
       "                       Cargo      Setor  Salário Bruto Tipo de Contratação  \\\n",
       "0         Cientista de Dados      Dados           6000                 CLT   \n",
       "1         Cientista de Dados      Dados           6500                 CLT   \n",
       "2          Analista de Dados      Dados           5000                 CLT   \n",
       "3          Analista de Dados      Dados           5800                 CLT   \n",
       "4          Analista de Dados      Dados           7000                 CLT   \n",
       "..                       ...        ...            ...                 ...   \n",
       "67      Gerente de Marketing  Marketing           6000                 CLT   \n",
       "68  Coordenador de Marketing  Marketing           8000                 CLT   \n",
       "69         Gerente Comercial  Marketing           8000                 CLT   \n",
       "70         Gerente Comercial  Marketing           8000                 CLT   \n",
       "71         Gerente Comercial  Marketing           8000                 CLT   \n",
       "\n",
       "    Carga Horária por dia  Formação  Idade  NPS interno  \n",
       "0                       8  Bacharel     24          9.0  \n",
       "1                       8  Bacharel     26          9.6  \n",
       "2                       8  Bacharel     29          8.0  \n",
       "3                       8  Bacharel     36          9.0  \n",
       "4                       8  Bacharel     32          9.4  \n",
       "..                    ...       ...    ...          ...  \n",
       "67                      8  Bacharel     46          9.0  \n",
       "68                      8  Bacharel     45          9.0  \n",
       "69                      8  Bacharel     32          9.4  \n",
       "70                      8  Bacharel     40          9.6  \n",
       "71                      8  Bacharel     23          8.5  \n",
       "\n",
       "[72 rows x 8 columns]"
      ]
     },
     "execution_count": 26,
     "metadata": {},
     "output_type": "execute_result"
    }
   ],
   "source": [
    "file = pd.read_csv(r\"D:\\Jonas\\Documents\\visua\\python\\novoProjeto\\Projetoyt\\data\\raw\\Avaliação_Mensal_Funcionários.csv\", decimal= ',')\n",
    "file"
   ]
  },
  {
   "cell_type": "code",
   "execution_count": 27,
   "metadata": {},
   "outputs": [
    {
     "name": "stdout",
     "output_type": "stream",
     "text": [
      "<class 'pandas.core.frame.DataFrame'>\n",
      "RangeIndex: 72 entries, 0 to 71\n",
      "Data columns (total 8 columns):\n",
      " #   Column                 Non-Null Count  Dtype  \n",
      "---  ------                 --------------  -----  \n",
      " 0   Cargo                  72 non-null     object \n",
      " 1   Setor                  72 non-null     object \n",
      " 2   Salário Bruto          72 non-null     int64  \n",
      " 3   Tipo de Contratação    72 non-null     object \n",
      " 4   Carga Horária por dia  72 non-null     int64  \n",
      " 5   Formação               72 non-null     object \n",
      " 6   Idade                  72 non-null     int64  \n",
      " 7   NPS interno            72 non-null     float64\n",
      "dtypes: float64(1), int64(3), object(4)\n",
      "memory usage: 4.6+ KB\n"
     ]
    }
   ],
   "source": [
    "file.info()"
   ]
  },
  {
   "cell_type": "code",
   "execution_count": 29,
   "metadata": {},
   "outputs": [
    {
     "data": {
      "text/plain": [
       "<pandas.core.groupby.generic.DataFrameGroupBy object at 0x000002631960FFE0>"
      ]
     },
     "execution_count": 29,
     "metadata": {},
     "output_type": "execute_result"
    }
   ],
   "source": [
    "file.groupby('Setor')"
   ]
  },
  {
   "cell_type": "code",
   "execution_count": 30,
   "metadata": {},
   "outputs": [],
   "source": [
    "sector = file.groupby('Setor')"
   ]
  },
  {
   "cell_type": "code",
   "execution_count": 31,
   "metadata": {},
   "outputs": [
    {
     "data": {
      "text/plain": [
       "pandas.core.frame.DataFrame"
      ]
     },
     "execution_count": 31,
     "metadata": {},
     "output_type": "execute_result"
    }
   ],
   "source": [
    "type(file)"
   ]
  },
  {
   "cell_type": "code",
   "execution_count": 32,
   "metadata": {},
   "outputs": [
    {
     "data": {
      "text/plain": [
       "pandas.core.groupby.generic.DataFrameGroupBy"
      ]
     },
     "execution_count": 32,
     "metadata": {},
     "output_type": "execute_result"
    }
   ],
   "source": [
    "type(sector)"
   ]
  },
  {
   "cell_type": "code",
   "execution_count": 33,
   "metadata": {},
   "outputs": [
    {
     "data": {
      "text/plain": [
       "72"
      ]
     },
     "execution_count": 33,
     "metadata": {},
     "output_type": "execute_result"
    }
   ],
   "source": [
    "len(file)"
   ]
  },
  {
   "cell_type": "code",
   "execution_count": 34,
   "metadata": {},
   "outputs": [
    {
     "data": {
      "text/plain": [
       "5"
      ]
     },
     "execution_count": 34,
     "metadata": {},
     "output_type": "execute_result"
    }
   ],
   "source": [
    "len(sector)"
   ]
  },
  {
   "cell_type": "code",
   "execution_count": 35,
   "metadata": {},
   "outputs": [
    {
     "data": {
      "text/plain": [
       "0         Dados\n",
       "1         Dados\n",
       "2         Dados\n",
       "3         Dados\n",
       "4         Dados\n",
       "        ...    \n",
       "67    Marketing\n",
       "68    Marketing\n",
       "69    Marketing\n",
       "70    Marketing\n",
       "71    Marketing\n",
       "Name: Setor, Length: 72, dtype: object"
      ]
     },
     "execution_count": 35,
     "metadata": {},
     "output_type": "execute_result"
    }
   ],
   "source": [
    "file['Setor']"
   ]
  },
  {
   "cell_type": "code",
   "execution_count": 36,
   "metadata": {},
   "outputs": [
    {
     "data": {
      "text/plain": [
       "5"
      ]
     },
     "execution_count": 36,
     "metadata": {},
     "output_type": "execute_result"
    }
   ],
   "source": [
    "file['Setor'].nunique()"
   ]
  },
  {
   "cell_type": "code",
   "execution_count": 37,
   "metadata": {},
   "outputs": [
    {
     "data": {
      "text/plain": [
       "['Adm-Fin',\n",
       " 'Dados',\n",
       " 'Engenharia de Software',\n",
       " 'Engenheiro de Software',\n",
       " 'Marketing']"
      ]
     },
     "execution_count": 37,
     "metadata": {},
     "output_type": "execute_result"
    }
   ],
   "source": [
    "#file['Setor'].unique()\n",
    "file['Setor'].sort_values().unique().tolist()"
   ]
  },
  {
   "cell_type": "code",
   "execution_count": 38,
   "metadata": {},
   "outputs": [
    {
     "data": {
      "text/plain": [
       "Setor\n",
       "Adm-Fin                    5\n",
       "Dados                     35\n",
       "Engenharia de Software    15\n",
       "Engenheiro de Software     3\n",
       "Marketing                 14\n",
       "dtype: int64"
      ]
     },
     "execution_count": 38,
     "metadata": {},
     "output_type": "execute_result"
    }
   ],
   "source": [
    "sector.size()"
   ]
  },
  {
   "cell_type": "code",
   "execution_count": 39,
   "metadata": {},
   "outputs": [
    {
     "data": {
      "text/plain": [
       "Setor\n",
       "Dados                     35\n",
       "Engenharia de Software    15\n",
       "Marketing                 14\n",
       "Adm-Fin                    5\n",
       "Engenheiro de Software     3\n",
       "Name: count, dtype: int64"
      ]
     },
     "execution_count": 39,
     "metadata": {},
     "output_type": "execute_result"
    }
   ],
   "source": [
    "file['Setor'].value_counts()"
   ]
  },
  {
   "cell_type": "code",
   "execution_count": 40,
   "metadata": {},
   "outputs": [
    {
     "data": {
      "text/plain": [
       "{'Adm-Fin': [21, 22, 23, 24, 25], 'Dados': [0, 1, 2, 3, 4, 5, 6, 7, 26, 27, 28, 29, 30, 31, 32, 33, 34, 35, 36, 37, 38, 39, 40, 41, 42, 43, 44, 45, 46, 47, 48, 49, 50, 51, 52], 'Engenharia de Software': [15, 16, 17, 18, 19, 53, 54, 55, 56, 57, 59, 60, 61, 62, 63], 'Engenheiro de Software': [20, 58, 64], 'Marketing': [8, 9, 10, 11, 12, 13, 14, 65, 66, 67, 68, 69, 70, 71]}"
      ]
     },
     "execution_count": 40,
     "metadata": {},
     "output_type": "execute_result"
    }
   ],
   "source": [
    "sector.groups #mostra os indices que compoem "
   ]
  },
  {
   "cell_type": "code",
   "execution_count": 41,
   "metadata": {},
   "outputs": [
    {
     "data": {
      "text/plain": [
       "Cargo                    Analista Administrativo\n",
       "Setor                                    Adm-Fin\n",
       "Salário Bruto                               7000\n",
       "Tipo de Contratação                          CLT\n",
       "Carga Horária por dia                          8\n",
       "Formação                                Bacharel\n",
       "Idade                                         38\n",
       "NPS interno                                  9.0\n",
       "Name: 21, dtype: object"
      ]
     },
     "execution_count": 41,
     "metadata": {},
     "output_type": "execute_result"
    }
   ],
   "source": [
    "file.loc[21]"
   ]
  },
  {
   "cell_type": "code",
   "execution_count": 42,
   "metadata": {},
   "outputs": [
    {
     "data": {
      "text/html": [
       "<div>\n",
       "<style scoped>\n",
       "    .dataframe tbody tr th:only-of-type {\n",
       "        vertical-align: middle;\n",
       "    }\n",
       "\n",
       "    .dataframe tbody tr th {\n",
       "        vertical-align: top;\n",
       "    }\n",
       "\n",
       "    .dataframe thead th {\n",
       "        text-align: right;\n",
       "    }\n",
       "</style>\n",
       "<table border=\"1\" class=\"dataframe\">\n",
       "  <thead>\n",
       "    <tr style=\"text-align: right;\">\n",
       "      <th></th>\n",
       "      <th>Cargo</th>\n",
       "      <th>Salário Bruto</th>\n",
       "      <th>Tipo de Contratação</th>\n",
       "      <th>Carga Horária por dia</th>\n",
       "      <th>Formação</th>\n",
       "      <th>Idade</th>\n",
       "      <th>NPS interno</th>\n",
       "    </tr>\n",
       "    <tr>\n",
       "      <th>Setor</th>\n",
       "      <th></th>\n",
       "      <th></th>\n",
       "      <th></th>\n",
       "      <th></th>\n",
       "      <th></th>\n",
       "      <th></th>\n",
       "      <th></th>\n",
       "    </tr>\n",
       "  </thead>\n",
       "  <tbody>\n",
       "    <tr>\n",
       "      <th>Adm-Fin</th>\n",
       "      <td>Gerente Administrativo</td>\n",
       "      <td>13000</td>\n",
       "      <td>CLT</td>\n",
       "      <td>8</td>\n",
       "      <td>Bacharel</td>\n",
       "      <td>52</td>\n",
       "      <td>9.0</td>\n",
       "    </tr>\n",
       "    <tr>\n",
       "      <th>Dados</th>\n",
       "      <td>Tech Lead</td>\n",
       "      <td>20000</td>\n",
       "      <td>PJ</td>\n",
       "      <td>8</td>\n",
       "      <td>Mestre</td>\n",
       "      <td>48</td>\n",
       "      <td>9.8</td>\n",
       "    </tr>\n",
       "    <tr>\n",
       "      <th>Engenharia de Software</th>\n",
       "      <td>Tech Lead</td>\n",
       "      <td>18000</td>\n",
       "      <td>PJ</td>\n",
       "      <td>8</td>\n",
       "      <td>Mestre</td>\n",
       "      <td>30</td>\n",
       "      <td>9.6</td>\n",
       "    </tr>\n",
       "    <tr>\n",
       "      <th>Engenheiro de Software</th>\n",
       "      <td>Engenheiro BackEnd</td>\n",
       "      <td>9000</td>\n",
       "      <td>PJ</td>\n",
       "      <td>8</td>\n",
       "      <td>Bacharel</td>\n",
       "      <td>38</td>\n",
       "      <td>8.5</td>\n",
       "    </tr>\n",
       "    <tr>\n",
       "      <th>Marketing</th>\n",
       "      <td>Gerente de Marketing</td>\n",
       "      <td>8000</td>\n",
       "      <td>PJ</td>\n",
       "      <td>8</td>\n",
       "      <td>Mestre</td>\n",
       "      <td>46</td>\n",
       "      <td>9.6</td>\n",
       "    </tr>\n",
       "  </tbody>\n",
       "</table>\n",
       "</div>"
      ],
      "text/plain": [
       "                                         Cargo  Salário Bruto  \\\n",
       "Setor                                                           \n",
       "Adm-Fin                 Gerente Administrativo          13000   \n",
       "Dados                                Tech Lead          20000   \n",
       "Engenharia de Software               Tech Lead          18000   \n",
       "Engenheiro de Software      Engenheiro BackEnd           9000   \n",
       "Marketing                 Gerente de Marketing           8000   \n",
       "\n",
       "                       Tipo de Contratação  Carga Horária por dia  Formação  \\\n",
       "Setor                                                                         \n",
       "Adm-Fin                                CLT                      8  Bacharel   \n",
       "Dados                                   PJ                      8    Mestre   \n",
       "Engenharia de Software                  PJ                      8    Mestre   \n",
       "Engenheiro de Software                  PJ                      8  Bacharel   \n",
       "Marketing                               PJ                      8    Mestre   \n",
       "\n",
       "                        Idade  NPS interno  \n",
       "Setor                                       \n",
       "Adm-Fin                    52          9.0  \n",
       "Dados                      48          9.8  \n",
       "Engenharia de Software     30          9.6  \n",
       "Engenheiro de Software     38          8.5  \n",
       "Marketing                  46          9.6  "
      ]
     },
     "execution_count": 42,
     "metadata": {},
     "output_type": "execute_result"
    }
   ],
   "source": [
    "sector.max() #min()"
   ]
  },
  {
   "cell_type": "code",
   "execution_count": 63,
   "metadata": {},
   "outputs": [],
   "source": [
    "file.Setor.replace(to_replace=\"Engenheiro de Software\", value= \"Engenharia de Software\", inplace=True)"
   ]
  },
  {
   "cell_type": "code",
   "execution_count": 79,
   "metadata": {},
   "outputs": [
    {
     "data": {
      "image/png": "[encoded data removed]",
      "text/plain": [
       "<Figure size 640x480 with 1 Axes>"
      ]
     },
     "metadata": {},
     "output_type": "display_data"
    }
   ],
   "source": [
    "setores = file.groupby(['Setor']).mean(numeric_only=True)[\"NPS interno\"].index\n",
    "valores_nps_medio = file.groupby(['Setor']).mean(numeric_only=True)[\"NPS interno\"].values\n",
    "plt.bar(setores, valores_nps_medio)\n",
    "plt.xlabel(\"Setores\")\n",
    "plt.ylabel(\"NPS interno médio mensal\")\n",
    "plt.xticks(rotation = 35)\n",
    "plt.yticks(np.array(range(0,11,1)))\n",
    "plt.title(\"NPS Mensal\");"
   ]
  },
  {
   "cell_type": "code",
   "execution_count": 82,
   "metadata": {},
   "outputs": [
    {
     "data": {
      "image/png": "[encoded data removed]",
      "text/plain": [
       "<Figure size 640x480 with 1 Axes>"
      ]
     },
     "metadata": {},
     "output_type": "display_data"
    }
   ],
   "source": [
    "TipoContratacao = file.groupby(['Tipo de Contratação']).mean(numeric_only=True)[\"NPS interno\"].index\n",
    "nps_medio_tipo_contratacao = file.groupby(['Tipo de Contratação']).mean(numeric_only=True)[\"NPS interno\"].values\n",
    "plt.bar(TipoContratacao, nps_medio_tipo_contratacao)\n",
    "#plt.xlabel(\"Setores\")\n",
    "plt.ylabel(\"NPS interno médio mensal\")\n",
    "plt.xticks(rotation = 35)\n",
    "plt.yticks(np.array(range(0,11,1)))\n",
    "plt.title(\"NPS Interno Mensal por Tipo de Contratação\");"
   ]
  },
  {
   "cell_type": "code",
   "execution_count": 85,
   "metadata": {},
   "outputs": [
    {
     "data": {
      "image/png": "[encoded data removed]",
      "text/plain": [
       "<Figure size 640x480 with 1 Axes>"
      ]
     },
     "metadata": {},
     "output_type": "display_data"
    }
   ],
   "source": [
    "plt.hist(file[\"NPS interno\"])\n",
    "plt.xlabel(\"NPS interno\")\n",
    "plt.title(\"Distribuição do NPS interno mensal\");"
   ]
  }
 ],
 "metadata": {
  "kernelspec": {
   "display_name": "Python 3",
   "language": "python",
   "name": "python3"
  },
  "language_info": {
   "codemirror_mode": {
    "name": "ipython",
    "version": 3
   },
   "file_extension": ".py",
   "mimetype": "text/x-python",
   "name": "python",
   "nbconvert_exporter": "python",
   "pygments_lexer": "ipython3",
   "version": "3.12.2"
  }
 },
 "nbformat": 4,
 "nbformat_minor": 2
}
